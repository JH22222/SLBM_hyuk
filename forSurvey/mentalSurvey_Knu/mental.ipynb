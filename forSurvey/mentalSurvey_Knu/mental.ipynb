{
 "cells": [
  {
   "cell_type": "code",
   "execution_count": 2,
   "id": "572aa265",
   "metadata": {},
   "outputs": [],
   "source": [
    "import pandas as pd\n",
    "import sqlite3"
   ]
  },
  {
   "cell_type": "code",
   "execution_count": 50,
   "id": "b7e9ed83",
   "metadata": {},
   "outputs": [
    {
     "name": "stdout",
     "output_type": "stream",
     "text": [
      "1\n",
      "['  나는 지난 일주일동안', ' 극히 드물게가끔자주거의 대부분일 이하1일1~2일3~4일 이상51평소에는 아무렇지도 않던 일들이 괴롭고 귀찮게 느껴졌다.01232먹고 싶지 않았다 입맛이 없었다; .01233가족이나 친구가 도와주더라도 울적한 기분을 떨쳐버릴 수 없었다.0123*4다른 사람들만큼 능력 있다고 느꼈다. 01235무슨 일을 하든 정신을 집중하기가 힘들었다. 01236우울했다. 01237하는 일마다 힘들게 느껴졌다.0123*8미래에 대하여 희망적으로 느꼈다.01239내 인생은 실패작이라고 생각했다.012310무서움을 느꼈다.012311잠을 설쳤다0123*12행복했다.012313평소보다 말을 적게 했다012314외로움을 느꼈다.012315사람들이 불친절했다.0123*16인생이 즐거웠다.012317울음을 터뜨린 적이 있었다.012318슬픔을 느꼈다. 012319사람들이 나를 싫어한다고 느꼈다. 012320일을 제대로 진척시킬 수 없었다.0123']\n"
     ]
    }
   ],
   "source": [
    "with open('./data/CES-D (우울).pdf','rb') as pdfFileObj:\n",
    "    pdfReader = PyPDF2.PdfFileReader(pdfFileObj)\n",
    "    print(pdfReader.numPages)\n",
    "    pageObj = pdfReader.getPage(0)\n",
    "    text = pageObj.extractText()    \n",
    "    title = text.split('()')[0]    \n",
    "    desc = text.split('()')[1].split('에 표 하시기 바랍니다O.')[0] + ' 선택 하시기 바랍니다.'\n",
    "    print(text.split('()')[1].split('에 표 하시기 바랍니다O.')[1].split('..'))"
   ]
  },
  {
   "cell_type": "code",
   "execution_count": 5,
   "id": "9f4df912",
   "metadata": {},
   "outputs": [],
   "source": [
    "desc = '아래에 적혀 있는 문항을 잘 읽으신 후 , 지난 주 1 동안 당신이 느끼고 행동한 것을 가장 잘 나타낸다고 생각되는 숫자를 선택 하시기 바랍니다.'\n",
    "topic = 'CES-D'\n",
    "name = '우울'\n",
    "title = 'Center for Epidemiologic Studies Depression Scale ; CES-D (역학연구 센터 우울 척도)'\n",
    "items = '극히 드물게 (1일 이하),가끔 (1~2 일),자주 (3~4 일),거의 대부분 (5일 이상)'"
   ]
  },
  {
   "cell_type": "code",
   "execution_count": 20,
   "id": "fb15e3da",
   "metadata": {},
   "outputs": [],
   "source": [
    "desc = '아래에 적혀 있는 문항을 잘 읽으신 후 , 지난 주 2 동안 당신이 느끼고 행동한 것을 가장 잘 나타낸다고 생각되는 숫자를 선택 하시기 바랍니다.'\n",
    "topic = 'PHQ-9'\n",
    "name = '우울'\n",
    "title = 'Patient Health Questionnaire ; PHQ-9 (한국어판 우울증 선별도구)'\n",
    "period = 2\n",
    "items = '없었음,가끔 (1~2 일),자주 (3~4 일),거의 대부분 (5일 이상)'"
   ]
  },
  {
   "cell_type": "code",
   "execution_count": 9,
   "id": "9c623c2d",
   "metadata": {},
   "outputs": [],
   "source": [
    "con = sqlite3.connect(\"./db.sqlite3\")\n",
    "cur = con.cursor()\n",
    "sql = 'DELETE FROM poll_desc'\n",
    "cur.execute(sql)\n",
    "con.commit()\n",
    "\n",
    "sql = 'INSERT INTO poll_desc (topic,desc,topic_name,title) values(?,?,?,?)'\n",
    "cur.execute(sql, [topic, desc,name,title])\n",
    "con.commit()\n",
    "\n",
    "# Be sure to close the connection\n",
    "con.close()\n"
   ]
  },
  {
   "cell_type": "code",
   "execution_count": 15,
   "id": "01cb1248",
   "metadata": {},
   "outputs": [
    {
     "data": {
      "text/html": [
       "<div>\n",
       "<style scoped>\n",
       "    .dataframe tbody tr th:only-of-type {\n",
       "        vertical-align: middle;\n",
       "    }\n",
       "\n",
       "    .dataframe tbody tr th {\n",
       "        vertical-align: top;\n",
       "    }\n",
       "\n",
       "    .dataframe thead th {\n",
       "        text-align: right;\n",
       "    }\n",
       "</style>\n",
       "<table border=\"1\" class=\"dataframe\">\n",
       "  <thead>\n",
       "    <tr style=\"text-align: right;\">\n",
       "      <th></th>\n",
       "      <th>topic</th>\n",
       "      <th>desc</th>\n",
       "      <th>topic_name</th>\n",
       "      <th>title</th>\n",
       "    </tr>\n",
       "  </thead>\n",
       "  <tbody>\n",
       "    <tr>\n",
       "      <th>0</th>\n",
       "      <td>CES-D</td>\n",
       "      <td>아래에 적혀 있는 문항을 잘 읽으신 후 , 지난 주1 동안 당신이 느끼고 행동한 것...</td>\n",
       "      <td>우울</td>\n",
       "      <td>Center for Epidemiologic Studies Depression Sc...</td>\n",
       "    </tr>\n",
       "  </tbody>\n",
       "</table>\n",
       "</div>"
      ],
      "text/plain": [
       "   topic                                               desc topic_name  \\\n",
       "0  CES-D  아래에 적혀 있는 문항을 잘 읽으신 후 , 지난 주1 동안 당신이 느끼고 행동한 것...         우울   \n",
       "\n",
       "                                               title  \n",
       "0  Center for Epidemiologic Studies Depression Sc...  "
      ]
     },
     "execution_count": 15,
     "metadata": {},
     "output_type": "execute_result"
    }
   ],
   "source": [
    "con = sqlite3.connect(\"./db.sqlite3\")\n",
    "cur = con.cursor()\n",
    "\n",
    "sql = 'SELECT * from poll_desc'\n",
    "query = cur.execute(sql)\n",
    "cols = [col[0] for col in query.description]\n",
    "df = pd.DataFrame.from_records(data=query.fetchall(), columns=cols)\n",
    "# Be sure to close the connection\n",
    "con.close()\n",
    "df"
   ]
  },
  {
   "cell_type": "code",
   "execution_count": 51,
   "id": "9a082151",
   "metadata": {},
   "outputs": [],
   "source": [
    "data = [\"평소에는 아무렇지도 않던 일들이 괴롭고 귀찮게 느껴졌다.\",\n",
    "\"먹고 싶지 않았다; 입맛이 없었다.\",\n",
    "\"가족이나 친구가 도와주더라도 울적한 기분을 떨쳐버릴 수 없었다.\",\n",
    "\"다른 사람들만큼 능력 있다고 느꼈다.\", \n",
    "\"무슨 일을 하든 정신을 집중하기가 힘들었다.\", \n",
    "\"우울했다.\", \n",
    "\"하는 일마다 힘들게 느껴졌다.\",\n",
    "\"미래에 대하여 희망적으로 느꼈다.\",\n",
    "\"내 인생은 실패작이라고 생각했다.\",\n",
    "\"무서움을 느꼈다.\",\n",
    "\"잠을 설쳤다.\"\n",
    "\"행복했다.\",\n",
    "\"평소보다 말을 적게 했다.\"\n",
    "\"외로움을 느꼈다.\",\n",
    "\"사람들이 불친절했다.\",\n",
    "\"인생이 즐거웠다.\",\n",
    "\"울음을 터뜨린 적이 있었다.\",\n",
    "\"슬픔을 느꼈다.\", \n",
    "\"사람들이 나를 싫어한다고 느꼈다.\", \n",
    "\"일을 제대로 진척시킬 수 없었다.\",\n",
    "]"
   ]
  },
  {
   "cell_type": "code",
   "execution_count": 52,
   "id": "e107b041",
   "metadata": {},
   "outputs": [],
   "source": [
    "con = sqlite3.connect(\"./db.sqlite3\")\n",
    "lastkey = 1\n",
    "\n",
    "cur = con.cursor()\n",
    "sql = 'DELETE FROM polls'\n",
    "cur.execute(sql)\n",
    "con.commit()\n",
    "sql = 'INSERT INTO polls (poll_key,poll,topic) values(?,?,?)'\n",
    "\n",
    "for idx, poll in enumerate(data):\n",
    "    cur.execute(sql, [lastkey+idx, poll,topic])    \n",
    "con.commit()\n",
    "\n",
    "# Be sure to close the connection\n",
    "con.close()\n"
   ]
  },
  {
   "cell_type": "code",
   "execution_count": 18,
   "id": "193742f4",
   "metadata": {},
   "outputs": [
    {
     "data": {
      "text/html": [
       "<div>\n",
       "<style scoped>\n",
       "    .dataframe tbody tr th:only-of-type {\n",
       "        vertical-align: middle;\n",
       "    }\n",
       "\n",
       "    .dataframe tbody tr th {\n",
       "        vertical-align: top;\n",
       "    }\n",
       "\n",
       "    .dataframe thead th {\n",
       "        text-align: right;\n",
       "    }\n",
       "</style>\n",
       "<table border=\"1\" class=\"dataframe\">\n",
       "  <thead>\n",
       "    <tr style=\"text-align: right;\">\n",
       "      <th></th>\n",
       "      <th>poll_key</th>\n",
       "      <th>poll</th>\n",
       "      <th>topic</th>\n",
       "    </tr>\n",
       "  </thead>\n",
       "  <tbody>\n",
       "    <tr>\n",
       "      <th>0</th>\n",
       "      <td>0</td>\n",
       "      <td>평소에는 아무렇지도 않던 일들이 괴롭고 귀찮게 느껴졌다.</td>\n",
       "      <td>CES-D</td>\n",
       "    </tr>\n",
       "    <tr>\n",
       "      <th>1</th>\n",
       "      <td>1</td>\n",
       "      <td>먹고 싶지 않았다; 입맛이 없었다.</td>\n",
       "      <td>CES-D</td>\n",
       "    </tr>\n",
       "    <tr>\n",
       "      <th>2</th>\n",
       "      <td>2</td>\n",
       "      <td>가족이나 친구가 도와주더라도 울적한 기분을 떨쳐버릴 수 없었다.</td>\n",
       "      <td>CES-D</td>\n",
       "    </tr>\n",
       "    <tr>\n",
       "      <th>3</th>\n",
       "      <td>3</td>\n",
       "      <td>다른 사람들만큼 능력 있다고 느꼈다.</td>\n",
       "      <td>CES-D</td>\n",
       "    </tr>\n",
       "    <tr>\n",
       "      <th>4</th>\n",
       "      <td>4</td>\n",
       "      <td>무슨 일을 하든 정신을 집중하기가 힘들었다.</td>\n",
       "      <td>CES-D</td>\n",
       "    </tr>\n",
       "    <tr>\n",
       "      <th>5</th>\n",
       "      <td>5</td>\n",
       "      <td>우울했다.</td>\n",
       "      <td>CES-D</td>\n",
       "    </tr>\n",
       "    <tr>\n",
       "      <th>6</th>\n",
       "      <td>6</td>\n",
       "      <td>하는 일마다 힘들게 느껴졌다.</td>\n",
       "      <td>CES-D</td>\n",
       "    </tr>\n",
       "    <tr>\n",
       "      <th>7</th>\n",
       "      <td>7</td>\n",
       "      <td>미래에 대하여 희망적으로 느꼈다.</td>\n",
       "      <td>CES-D</td>\n",
       "    </tr>\n",
       "    <tr>\n",
       "      <th>8</th>\n",
       "      <td>8</td>\n",
       "      <td>내 인생은 실패작이라고 생각했다.</td>\n",
       "      <td>CES-D</td>\n",
       "    </tr>\n",
       "    <tr>\n",
       "      <th>9</th>\n",
       "      <td>9</td>\n",
       "      <td>무서움을 느꼈다.</td>\n",
       "      <td>CES-D</td>\n",
       "    </tr>\n",
       "    <tr>\n",
       "      <th>10</th>\n",
       "      <td>10</td>\n",
       "      <td>잠을 설쳤다.행복했다.</td>\n",
       "      <td>CES-D</td>\n",
       "    </tr>\n",
       "    <tr>\n",
       "      <th>11</th>\n",
       "      <td>11</td>\n",
       "      <td>평소보다 말을 적게 했다.외로움을 느꼈다.</td>\n",
       "      <td>CES-D</td>\n",
       "    </tr>\n",
       "    <tr>\n",
       "      <th>12</th>\n",
       "      <td>12</td>\n",
       "      <td>사람들이 불친절했다.</td>\n",
       "      <td>CES-D</td>\n",
       "    </tr>\n",
       "    <tr>\n",
       "      <th>13</th>\n",
       "      <td>13</td>\n",
       "      <td>인생이 즐거웠다.</td>\n",
       "      <td>CES-D</td>\n",
       "    </tr>\n",
       "    <tr>\n",
       "      <th>14</th>\n",
       "      <td>14</td>\n",
       "      <td>울음을 터뜨린 적이 있었다.</td>\n",
       "      <td>CES-D</td>\n",
       "    </tr>\n",
       "    <tr>\n",
       "      <th>15</th>\n",
       "      <td>15</td>\n",
       "      <td>슬픔을 느꼈다.</td>\n",
       "      <td>CES-D</td>\n",
       "    </tr>\n",
       "    <tr>\n",
       "      <th>16</th>\n",
       "      <td>16</td>\n",
       "      <td>사람들이 나를 싫어한다고 느꼈다.</td>\n",
       "      <td>CES-D</td>\n",
       "    </tr>\n",
       "    <tr>\n",
       "      <th>17</th>\n",
       "      <td>17</td>\n",
       "      <td>일을 제대로 진척시킬 수 없었다.</td>\n",
       "      <td>CES-D</td>\n",
       "    </tr>\n",
       "  </tbody>\n",
       "</table>\n",
       "</div>"
      ],
      "text/plain": [
       "    poll_key                                 poll  topic\n",
       "0          0      평소에는 아무렇지도 않던 일들이 괴롭고 귀찮게 느껴졌다.  CES-D\n",
       "1          1                  먹고 싶지 않았다; 입맛이 없었다.  CES-D\n",
       "2          2  가족이나 친구가 도와주더라도 울적한 기분을 떨쳐버릴 수 없었다.  CES-D\n",
       "3          3                 다른 사람들만큼 능력 있다고 느꼈다.  CES-D\n",
       "4          4             무슨 일을 하든 정신을 집중하기가 힘들었다.  CES-D\n",
       "5          5                                우울했다.  CES-D\n",
       "6          6                     하는 일마다 힘들게 느껴졌다.  CES-D\n",
       "7          7                   미래에 대하여 희망적으로 느꼈다.  CES-D\n",
       "8          8                   내 인생은 실패작이라고 생각했다.  CES-D\n",
       "9          9                            무서움을 느꼈다.  CES-D\n",
       "10        10                         잠을 설쳤다.행복했다.  CES-D\n",
       "11        11              평소보다 말을 적게 했다.외로움을 느꼈다.  CES-D\n",
       "12        12                          사람들이 불친절했다.  CES-D\n",
       "13        13                            인생이 즐거웠다.  CES-D\n",
       "14        14                      울음을 터뜨린 적이 있었다.  CES-D\n",
       "15        15                             슬픔을 느꼈다.  CES-D\n",
       "16        16                   사람들이 나를 싫어한다고 느꼈다.  CES-D\n",
       "17        17                   일을 제대로 진척시킬 수 없었다.  CES-D"
      ]
     },
     "execution_count": 18,
     "metadata": {},
     "output_type": "execute_result"
    }
   ],
   "source": [
    "con = sqlite3.connect(\"./db.sqlite3\")\n",
    "\n",
    "cur = con.cursor()\n",
    "sql = 'SELECT * from polls'\n",
    "query = cur.execute(sql)\n",
    "cols = [col[0] for col in query.description]\n",
    "df = pd.DataFrame.from_records(data=query.fetchall(), columns=cols)\n",
    "# Be sure to close the connection\n",
    "con.close()\n",
    "df"
   ]
  },
  {
   "cell_type": "code",
   "execution_count": 1,
   "id": "bcdb159a",
   "metadata": {},
   "outputs": [
    {
     "name": "stdout",
     "output_type": "stream",
     "text": [
      "MongoDB successfully connected!\n",
      "{'_id': ObjectId('63e5cb8faa60d030b10001c2'),\n",
      " 'date': datetime.datetime(2023, 2, 10, 13, 43, 59, 440000),\n",
      " 'poll': '1',\n",
      " 'poll_key': '1',\n",
      " 'tag': 'PHQ-9 (우울)',\n",
      " 'userid': 'test'}\n"
     ]
    },
    {
     "data": {
      "text/plain": [
       "['polltypes', 'polls', 'devices', 'users']"
      ]
     },
     "execution_count": 1,
     "metadata": {},
     "output_type": "execute_result"
    }
   ],
   "source": [
    "import pprint\n",
    "from db.db import MongoDB\n",
    "db = MongoDB()._conn['users']\n",
    "collection = db['polls']\n",
    "pprint.pprint(collection.find_one())\n",
    "db.list_collection_names()"
   ]
  },
  {
   "cell_type": "code",
   "execution_count": 11,
   "id": "a3c216c4",
   "metadata": {},
   "outputs": [
    {
     "name": "stdout",
     "output_type": "stream",
     "text": [
      "MongoDB successfully connected!\n"
     ]
    },
    {
     "data": {
      "text/plain": [
       "<pymongo.results.InsertManyResult at 0x1fa5322cf40>"
      ]
     },
     "execution_count": 11,
     "metadata": {},
     "output_type": "execute_result"
    }
   ],
   "source": [
    "dataset0 = [{'type': 'form0', 'tag': '수면 일지'},          \n",
    "            {'type': 'form1', 'tag': 'PHQ-9 (우울)'},\n",
    "          {'type': 'form1', 'tag': 'CES-D'},            \n",
    "          {'type': 'form1', 'tag': 'GAD-7 (불안)'},        \n",
    "            {'type': 'form3', 'tag': 'ISI (불면증)'},\n",
    "          {'type': 'form2', 'tag': 'Stress Questionnaire'},          \n",
    "            {'type': 'form1', 'tag': 'INQ (대인관계)'},\n",
    "            {'type': 'form1', 'tag': 'WHOQOL-BREF (삶의 질)'},\n",
    "            {'type': 'form1', 'tag': 'S-Scale-A (스마트폰 중독)'},\n",
    "          ]\n",
    "dataset1 = [{'type': 'form0', 'tag': '수면 일지'},\n",
    "          {'type': 'form1', 'tag': 'PHQ-9 (우울)'},          \n",
    "          {'type': 'form1', 'tag': 'GAD-7 (불안)'},                    \n",
    "          ]\n",
    "dataset2 = [{'type': 'form0', 'tag': '수면 일지'},\n",
    "          {'type': 'form1', 'tag': 'PHQ-9 (우울)'},\n",
    "          {'type': 'form1', 'tag': 'GAD-7 (불안)'},\n",
    "          {'type': 'form2', 'tag': 'Stress Questionnaire'},\n",
    "          {'type': 'form3', 'tag': 'ISI (불면증)'},\n",
    "          ]\n",
    "dataset3 = [{'type': 'form0', 'tag': '수면 일지'},\n",
    "          {'type': 'form1', 'tag': 'PHQ-9 (우울)'},\n",
    "          {'type': 'form1', 'tag': 'CES-D'},\n",
    "          {'type': 'form1', 'tag': 'GAD-7 (불안)'},          \n",
    "          {'type': 'form3', 'tag': 'ISI (불면증)'},\n",
    "          {'type': 'form2', 'tag': 'Stress Questionnaire'},\n",
    "          ]\n",
    "\n",
    "testset = []\n",
    "from datetime import datetime\n",
    "now = \n",
    "for i in range(9):\n",
    "    if i == 0:\n",
    "        data = {'week':i, 'dataset':dataset0 ,'name':'knu_test'}\n",
    "    elif i == 8:\n",
    "        data = {'week':i, 'dataset':dataset3 ,'name':'knu_test'}    \n",
    "    elif i % 2 == 1:\n",
    "        data = {'week':i, 'dataset':dataset1 ,'name':'knu_test'}\n",
    "    elif i % 2 == 0:\n",
    "        data = {'week':i, 'dataset':dataset2 ,'name':'knu_test'}\n",
    "    \n",
    "    #print(i, data)\n",
    "    testset.append(data)\n",
    "\n",
    "    \n",
    "db = MongoDB()._conn['users']\n",
    "collection = db['polltypes']\n",
    "db.list_collection_names()\n",
    "#collection.insert_many(testset)"
   ]
  }
 ],
 "metadata": {
  "kernelspec": {
   "display_name": "Python 3 (ipykernel)",
   "language": "python",
   "name": "python3"
  },
  "language_info": {
   "codemirror_mode": {
    "name": "ipython",
    "version": 3
   },
   "file_extension": ".py",
   "mimetype": "text/x-python",
   "name": "python",
   "nbconvert_exporter": "python",
   "pygments_lexer": "ipython3",
   "version": "3.9.15"
  }
 },
 "nbformat": 4,
 "nbformat_minor": 5
}
